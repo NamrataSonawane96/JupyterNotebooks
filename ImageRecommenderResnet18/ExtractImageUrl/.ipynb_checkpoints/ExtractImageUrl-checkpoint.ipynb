{
 "cells": [
  {
   "cell_type": "code",
   "execution_count": null,
   "id": "2734b917",
   "metadata": {},
   "outputs": [],
   "source": [
    "import requests\n",
    "import csv"
   ]
  },
  {
   "cell_type": "code",
   "execution_count": null,
   "id": "e0701527",
   "metadata": {},
   "outputs": [],
   "source": [
    "url = 'https://redsky.target.com/redsky_aggregations/v1/web/plp_search_v1?key=ff457966e64d5e877fdbad070f276d18ecec4a01&channel=WEB&count=5&default_purchasability_filter=true&include_sponsored=true&keyword=red+handbag&offset=0&page=/s/red+handbag&platform=desktop&pricing_store_id=875&store_ids=875,55,3292,1784,947&useragent=Mozilla/5.0+(Macintosh;+Intel+Mac+OS+X+10_15_7)+AppleWebKit/537.36+(KHTML,+like+Gecko)+Chrome/96.0.4664.110+Safari/537.36&visitor_id=017221423AF302019CD3572631777CD0'"
   ]
  },
  {
   "cell_type": "code",
   "execution_count": null,
   "id": "1cb91f61",
   "metadata": {},
   "outputs": [],
   "source": [
    "response = requests.get(url)\n",
    "data_in_json = response.json()\n",
    "# field names \n",
    "fields = ['category', 'buy_url', 'primary_image_url'] \n",
    "# name of csv file \n",
    "filename = \"ExtractedImages.csv\"\n",
    "for x in range(5):\n",
    "    buy_url = data_in_json['data']['search']['products'][x]['item']['enrichment']['buy_url']\n",
    "    primary_image_url = data_in_json['data']['search']['products'][x]['item']['enrichment']['images']['primary_image_url']\n",
    "    # data rows of csv file \n",
    "    rows = [\n",
    "        ['Red Bag',buy_url,primary_image_url]\n",
    "    ]\n",
    "    # writing to csv file \n",
    "    #with open(filename, 'w') as csvfile:\n",
    "    with open(filename, 'a', newline='') as csvfile:\n",
    "        # creating a csv writer object \n",
    "        csvwriter = csv.writer(csvfile) \n",
    "        \n",
    "        # writing the fields \n",
    "        #csvwriter.writerow(fields) \n",
    "        \n",
    "        # writing the data rows \n",
    "        csvwriter.writerows(rows)\n"
   ]
  },
  {
   "cell_type": "code",
   "execution_count": null,
   "id": "12999543",
   "metadata": {},
   "outputs": [],
   "source": []
  }
 ],
 "metadata": {
  "kernelspec": {
   "display_name": "Python 3 (ipykernel)",
   "language": "python",
   "name": "python3"
  },
  "language_info": {
   "codemirror_mode": {
    "name": "ipython",
    "version": 3
   },
   "file_extension": ".py",
   "mimetype": "text/x-python",
   "name": "python",
   "nbconvert_exporter": "python",
   "pygments_lexer": "ipython3",
   "version": "3.7.12"
  }
 },
 "nbformat": 4,
 "nbformat_minor": 5
}
